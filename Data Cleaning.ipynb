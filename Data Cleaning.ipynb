{
 "cells": [
  {
   "cell_type": "code",
   "execution_count": 5,
   "id": "40c6e241-68ee-4629-8b3e-6f17a34245d4",
   "metadata": {},
   "outputs": [],
   "source": [
    "import pandas as pd\n",
    "\n",
    "# Load the Excel file\n",
    "data = pd.read_excel(r\"C:\\Users\\HP\\Downloads\\Reward_Program_Assignment_Input_v6 - TA.xlsx\")\n",
    "\n",
    "# Check for duplicates based on key columns\n",
    "duplicates = data.duplicated(subset=['Mentor_ID', 'Mentee_Name', 'Session_Date'], keep=False)\n",
    "\n"
   ]
  },
  {
   "cell_type": "code",
   "execution_count": 7,
   "id": "624bf18d-c03c-481f-9939-f897dcd0775c",
   "metadata": {},
   "outputs": [],
   "source": [
    "cleaned_data = data.drop_duplicates(subset=['Mentor_ID', 'Mentee_Name', 'Session_Date'], keep='first')\n"
   ]
  },
  {
   "cell_type": "code",
   "execution_count": 9,
   "id": "09f46c2e-ea6f-493c-b116-652eacb42e45",
   "metadata": {},
   "outputs": [
    {
     "name": "stdout",
     "output_type": "stream",
     "text": [
      "Unnamed: 0                1\n",
      "Mentor_ID                 1\n",
      "Mentor_Name               0\n",
      "Mentee_Name               2\n",
      "Session_Number            1\n",
      "Session_Duration_Min      2\n",
      "Job_Info_Completed        1\n",
      "Session_Date              1\n",
      "Points_Awarded          101\n",
      "dtype: int64\n"
     ]
    }
   ],
   "source": [
    "missing_summary = cleaned_data.isnull().sum()\n",
    "print(missing_summary)\n"
   ]
  },
  {
   "cell_type": "code",
   "execution_count": 13,
   "id": "48ccf0fb-90ff-49a5-8220-fd883a95a478",
   "metadata": {},
   "outputs": [],
   "source": [
    "# To remove rows with missing values in critical columns (without inplace)\n",
    "cleaned_data = cleaned_data.dropna(subset=['Mentee_Name', 'Session_Date'])\n",
    "\n",
    "# To fill missing values in the 'Session_Duration_Min' column (without inplace)\n",
    "cleaned_data['Session_Duration_Min'] = cleaned_data['Session_Duration_Min'].fillna(value=cleaned_data['Session_Duration_Min'].mean())\n",
    "\n"
   ]
  },
  {
   "cell_type": "code",
   "execution_count": 15,
   "id": "8beb64a6-02a4-4566-a939-f24517ff569b",
   "metadata": {},
   "outputs": [],
   "source": [
    "cleaned_data.to_excel('cleaned_data.xlsx', index=False)\n"
   ]
  },
  {
   "cell_type": "code",
   "execution_count": 17,
   "id": "47f2bc32-a915-4297-9128-693133335a4f",
   "metadata": {},
   "outputs": [
    {
     "name": "stdout",
     "output_type": "stream",
     "text": [
      "C:\\Users\\HP\n"
     ]
    }
   ],
   "source": [
    "import os\n",
    "print(os.getcwd())\n"
   ]
  },
  {
   "cell_type": "code",
   "execution_count": null,
   "id": "d2d3237e-eb8f-4c1d-8b31-7adf5974ba2e",
   "metadata": {},
   "outputs": [],
   "source": []
  }
 ],
 "metadata": {
  "kernelspec": {
   "display_name": "Python 3 (ipykernel)",
   "language": "python",
   "name": "python3"
  },
  "language_info": {
   "codemirror_mode": {
    "name": "ipython",
    "version": 3
   },
   "file_extension": ".py",
   "mimetype": "text/x-python",
   "name": "python",
   "nbconvert_exporter": "python",
   "pygments_lexer": "ipython3",
   "version": "3.12.4"
  }
 },
 "nbformat": 4,
 "nbformat_minor": 5
}
